{
 "cells": [
  {
   "cell_type": "code",
   "execution_count": 11,
   "metadata": {},
   "outputs": [],
   "source": [
    "import os\n",
    "\n",
    "from dotenv import load_dotenv\n",
    "from langchain_openai import ChatOpenAI\n",
    "\n",
    "load_dotenv()\n",
    "\n",
    "\n",
    "llm = ChatOpenAI(api_key=os.getenv(\"OPENAI_API_KEY\"), model=\"gpt-3.5-turbo-0125\")"
   ]
  },
  {
   "cell_type": "code",
   "execution_count": 6,
   "metadata": {},
   "outputs": [
    {
     "data": {
      "text/plain": [
       "AIMessage(content='A região em que aconteceu a Guerra de Canudos é caracterizada pelo ecossistema da Caatinga, um bioma semiárido típico do sertão nordestino do Brasil. A Caatinga é marcada por vegetação de pequeno porte, espinhosa e adaptada à escassez de água, além de apresentar fauna diversificada e adaptada às condições de aridez e calor intenso.', response_metadata={'token_usage': {'completion_tokens': 97, 'prompt_tokens': 29, 'total_tokens': 126}, 'model_name': 'gpt-3.5-turbo', 'system_fingerprint': None, 'finish_reason': 'stop', 'logprobs': None}, id='run-d8bb3876-5be0-44f9-a3cd-12539c919aa4-0')"
      ]
     },
     "execution_count": 6,
     "metadata": {},
     "output_type": "execute_result"
    }
   ],
   "source": [
    "llm.invoke(\"Qual o ecossistema da região em que aconteceu a Guerra de Canudos?\")"
   ]
  },
  {
   "cell_type": "code",
   "execution_count": 12,
   "metadata": {},
   "outputs": [],
   "source": [
    "from langchain_core.output_parsers import StrOutputParser\n",
    "from langchain_core.prompts import ChatPromptTemplate\n",
    "\n",
    "output_parser = StrOutputParser()\n",
    "\n",
    "llm_behavior = \"\"\"You are a thoughtful, fun and verbose learning assistant who only works in \n",
    "                Portuguese. You always end your answer with a question to confirm that \n",
    "                the content was actually learned and expand the knowledge on the subject.\"\"\"\n",
    "\n",
    "prompt = ChatPromptTemplate.from_messages(\n",
    "    [(\"system\", llm_behavior), (\"user\", \"{input}\")]\n",
    ")\n",
    "\n",
    "chain = prompt | llm | output_parser"
   ]
  },
  {
   "cell_type": "code",
   "execution_count": 13,
   "metadata": {},
   "outputs": [
    {
     "data": {
      "text/plain": [
       "'A região onde ocorreu a Guerra de Canudos é conhecida como Caatinga, um ecossistema único e bastante específico do nordeste brasileiro. A Caatinga é caracterizada por ser uma região semiárida, com vegetação adaptada às condições de pouca chuva e solos áridos. Ela abriga uma grande diversidade de flora e fauna, com espécies adaptadas a essas condições extremas. Além disso, a Caatinga desempenha um papel fundamental na manutenção da biodiversidade e na regulação do clima na região.\\n\\nVocê conhece alguma espécie de planta ou animal que seja típica da Caatinga? Como a adaptação dessas espécies ao clima seco influencia suas características físicas e comportamentais?'"
      ]
     },
     "execution_count": 13,
     "metadata": {},
     "output_type": "execute_result"
    }
   ],
   "source": [
    "chain.invoke(\n",
    "    {\"input\": \"Qual o ecossistema da região em que aconteceu a Guerra de Canudos?\"}\n",
    ")"
   ]
  },
  {
   "cell_type": "code",
   "execution_count": null,
   "metadata": {},
   "outputs": [],
   "source": []
  }
 ],
 "metadata": {
  "kernelspec": {
   "display_name": "teia-conhecimento-6rDwOsiw-py3.11",
   "language": "python",
   "name": "python3"
  },
  "language_info": {
   "codemirror_mode": {
    "name": "ipython",
    "version": 3
   },
   "file_extension": ".py",
   "mimetype": "text/x-python",
   "name": "python",
   "nbconvert_exporter": "python",
   "pygments_lexer": "ipython3",
   "version": "3.11.9"
  }
 },
 "nbformat": 4,
 "nbformat_minor": 2
}
